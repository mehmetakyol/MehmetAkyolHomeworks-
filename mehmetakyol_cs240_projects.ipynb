{
 "cells": [
  {
   "cell_type": "code",
   "execution_count": 1,
   "metadata": {
    "collapsed": true
   },
   "outputs": [],
   "source": [
    "import thinkstats2\n",
    "import thinkplot\n",
    "import pandas as pd\n",
    "import numpy as np\n",
    "teams = pd.read_csv(\"Teams.csv\")\n",
    "from __future__ import print_function, division\n",
    "%matplotlib inline"
   ]
  },
  {
   "cell_type": "code",
   "execution_count": 46,
   "metadata": {
    "collapsed": false
   },
   "outputs": [
    {
     "data": {
      "text/plain": [
       "0        20\n",
       "1        19\n",
       "2        10\n",
       "3         7\n",
       "4        16\n",
       "5        21\n",
       "6         4\n",
       "7        13\n",
       "8        15\n",
       "9        35\n",
       "10        3\n",
       "11        9\n",
       "12       39\n",
       "13        6\n",
       "14        5\n",
       "15       34\n",
       "16       30\n",
       "17       15\n",
       "18        2\n",
       "19        0\n",
       "20       34\n",
       "21        0\n",
       "22       17\n",
       "23       43\n",
       "24        2\n",
       "25       29\n",
       "26       28\n",
       "27       36\n",
       "28        8\n",
       "29        9\n",
       "       ... \n",
       "2295     70\n",
       "2296    100\n",
       "2297    103\n",
       "2298     78\n",
       "2299     94\n",
       "2300     75\n",
       "2301     67\n",
       "2302     96\n",
       "2303     97\n",
       "2304     72\n",
       "2305     69\n",
       "2306     64\n",
       "2307     97\n",
       "2308     64\n",
       "2309     77\n",
       "2310     74\n",
       "2311     63\n",
       "2312     68\n",
       "2313     98\n",
       "2314     97\n",
       "2315     87\n",
       "2316     77\n",
       "2317     78\n",
       "2318     74\n",
       "2319     79\n",
       "2320     86\n",
       "2321     75\n",
       "2322     69\n",
       "2323     95\n",
       "2324     84\n",
       "Name: W, dtype: int64"
      ]
     },
     "execution_count": 46,
     "metadata": {},
     "output_type": "execute_result"
    }
   ],
   "source": [
    "_1880to_2000 = teams[teams.yearID < 2000]\n",
    "win_to_years=_1880to_2000.W\n",
    "win_to_years\n"
   ]
  },
  {
   "cell_type": "code",
   "execution_count": 58,
   "metadata": {
    "collapsed": false
   },
   "outputs": [
    {
     "data": {
      "text/plain": [
       "{1880: 41.5,\n",
       " 1881: 41.75,\n",
       " 1882: 40.5,\n",
       " 1883: 48.6875,\n",
       " 1884: 45.72727272727273,\n",
       " 1885: 55.375,\n",
       " 1886: 64.0,\n",
       " 1887: 64.25,\n",
       " 1888: 66.9375,\n",
       " 1889: 66.5,\n",
       " 1890: 63.24,\n",
       " 1891: 64.11764705882354,\n",
       " 1892: 75.25,\n",
       " 1893: 64.41666666666667,\n",
       " 1894: 65.25,\n",
       " 1895: 65.25,\n",
       " 1896: 64.83333333333333,\n",
       " 1897: 65.66666666666667,\n",
       " 1898: 74.75,\n",
       " 1899: 75.25,\n",
       " 1900: 69.25,\n",
       " 1901: 68.4375,\n",
       " 1902: 68.3125,\n",
       " 1903: 68.6875,\n",
       " 1904: 76.25,\n",
       " 1905: 76.125,\n",
       " 1906: 75.5,\n",
       " 1907: 75.1875,\n",
       " 1908: 76.75,\n",
       " 1909: 76.125,\n",
       " 1910: 76.4375,\n",
       " 1911: 76.125,\n",
       " 1912: 76.1875,\n",
       " 1913: 75.8125,\n",
       " 1914: 76.54166666666667,\n",
       " 1915: 76.375,\n",
       " 1916: 76.6875,\n",
       " 1917: 76.5625,\n",
       " 1918: 62.875,\n",
       " 1919: 69.5625,\n",
       " 1920: 76.75,\n",
       " 1921: 76.625,\n",
       " 1922: 76.9375,\n",
       " 1923: 76.625,\n",
       " 1924: 76.5,\n",
       " 1925: 76.5,\n",
       " 1926: 76.375,\n",
       " 1927: 76.75,\n",
       " 1928: 76.6875,\n",
       " 1929: 76.3125,\n",
       " 1930: 77.0,\n",
       " 1931: 76.6875,\n",
       " 1932: 76.75,\n",
       " 1933: 76.0,\n",
       " 1934: 75.9375,\n",
       " 1935: 76.1875,\n",
       " 1936: 76.75,\n",
       " 1937: 76.625,\n",
       " 1938: 75.4375,\n",
       " 1939: 76.3125,\n",
       " 1940: 76.75,\n",
       " 1941: 76.9375,\n",
       " 1942: 75.9375,\n",
       " 1943: 76.6875,\n",
       " 1944: 76.9375,\n",
       " 1945: 76.125,\n",
       " 1946: 77.0625,\n",
       " 1947: 77.0,\n",
       " 1948: 76.875,\n",
       " 1949: 77.0,\n",
       " 1950: 76.875,\n",
       " 1951: 77.1875,\n",
       " 1952: 76.9375,\n",
       " 1953: 76.8125,\n",
       " 1954: 77.0,\n",
       " 1955: 76.9375,\n",
       " 1956: 77.0,\n",
       " 1957: 76.875,\n",
       " 1958: 76.9375,\n",
       " 1959: 77.125,\n",
       " 1960: 77.0,\n",
       " 1961: 79.05555555555556,\n",
       " 1962: 80.9,\n",
       " 1963: 80.9,\n",
       " 1964: 81.0,\n",
       " 1965: 80.95,\n",
       " 1966: 80.65,\n",
       " 1967: 80.85,\n",
       " 1968: 80.95,\n",
       " 1969: 80.95833333333333,\n",
       " 1970: 80.95833333333333,\n",
       " 1971: 80.70833333333333,\n",
       " 1972: 77.41666666666667,\n",
       " 1973: 80.91666666666667,\n",
       " 1974: 80.875,\n",
       " 1975: 80.54166666666667,\n",
       " 1976: 80.79166666666667,\n",
       " 1977: 80.88461538461539,\n",
       " 1978: 80.84615384615384,\n",
       " 1979: 80.65384615384616,\n",
       " 1980: 80.8076923076923,\n",
       " 1981: 53.42307692307692,\n",
       " 1982: 81.0,\n",
       " 1983: 81.0,\n",
       " 1984: 80.92307692307692,\n",
       " 1985: 80.8076923076923,\n",
       " 1986: 80.84615384615384,\n",
       " 1987: 80.96153846153847,\n",
       " 1988: 80.6923076923077,\n",
       " 1989: 80.88461538461539,\n",
       " 1990: 80.96153846153847,\n",
       " 1991: 80.92307692307692,\n",
       " 1992: 81.0,\n",
       " 1993: 81.0,\n",
       " 1994: 57.107142857142854,\n",
       " 1995: 72.0,\n",
       " 1996: 80.92857142857143,\n",
       " 1997: 80.92857142857143,\n",
       " 1998: 81.0,\n",
       " 1999: 80.9}"
      ]
     },
     "execution_count": 58,
     "metadata": {},
     "output_type": "execute_result"
    }
   ],
   "source": [
    "year_win_rate=dict()\n",
    "for i in range(1880,2000):\n",
    "    year_win_rate[i] =  teams.W[teams.yearID == i].mean()\n",
    "year_win_rate"
   ]
  },
  {
   "cell_type": "markdown",
   "metadata": {},
   "source": []
  },
  {
   "cell_type": "code",
   "execution_count": 59,
   "metadata": {
    "collapsed": false
   },
   "outputs": [],
   "source": [
    "year_win_rate_graph = thinkstats2.Hist(year_win_rate)"
   ]
  },
  {
   "cell_type": "code",
   "execution_count": 60,
   "metadata": {
    "collapsed": false
   },
   "outputs": [
    {
     "data": {
      "image/png": "[encoded data removed]",
      "text/plain": [
       "<matplotlib.figure.Figure at 0xc8a8d68>"
      ]
     },
     "metadata": {},
     "output_type": "display_data"
    }
   ],
   "source": [
    "thinkplot.Hist(year_win_rate_graph)\n",
    "thinkplot.Config(xlabel=\"years\", ylabel=\"win\")"
   ]
  },
  {
   "cell_type": "code",
   "execution_count": 61,
   "metadata": {
    "collapsed": false
   },
   "outputs": [
    {
     "data": {
      "image/png": "[encoded data removed]",
      "text/plain": [
       "<matplotlib.figure.Figure at 0xcc14358>"
      ]
     },
     "metadata": {},
     "output_type": "display_data"
    }
   ],
   "source": [
    "year_win_rate_graphpmf = thinkstats2.Pmf(year_win_rate)\n",
    "thinkplot.Pmf(year_win_rate_graphpmf)\n",
    "thinkplot.Config(xlabel=\"years\", ylabel=\"win\")\n"
   ]
  },
  {
   "cell_type": "code",
   "execution_count": 62,
   "metadata": {
    "collapsed": false
   },
   "outputs": [
    {
     "data": {
      "image/png": "[encoded data removed]",
      "text/plain": [
       "<matplotlib.figure.Figure at 0xc406550>"
      ]
     },
     "metadata": {},
     "output_type": "display_data"
    }
   ],
   "source": [
    "year_win_rate_graphcdf = thinkstats2.Cdf(year_win_rate)\n",
    "thinkplot.Cdf(year_win_rate_graphcdf)\n",
    "thinkplot.Config(xlabel=\"years\", ylabel=\"wins\")"
   ]
  },
  {
   "cell_type": "code",
   "execution_count": 63,
   "metadata": {
    "collapsed": false
   },
   "outputs": [
    {
     "data": {
      "text/plain": [
       "2355     75\n",
       "2356     92\n",
       "2357     88\n",
       "2358     63\n",
       "2359     82\n",
       "2360     83\n",
       "2361     88\n",
       "2362     66\n",
       "2363     91\n",
       "2364     73\n",
       "2365     66\n",
       "2366     76\n",
       "2367     93\n",
       "2368     65\n",
       "2369     86\n",
       "2370     68\n",
       "2371     85\n",
       "2372     68\n",
       "2373     95\n",
       "2374     82\n",
       "2375    102\n",
       "2376     86\n",
       "2377     62\n",
       "2378     79\n",
       "2379    116\n",
       "2380     90\n",
       "2381     93\n",
       "2382     62\n",
       "2383     73\n",
       "2384     80\n",
       "       ... \n",
       "2805     69\n",
       "2806     68\n",
       "2807     89\n",
       "2808     93\n",
       "2809     78\n",
       "2810    103\n",
       "2811     68\n",
       "2812     94\n",
       "2813     75\n",
       "2814     86\n",
       "2815     84\n",
       "2816     81\n",
       "2817     74\n",
       "2818     91\n",
       "2819     79\n",
       "2820     73\n",
       "2821     59\n",
       "2822     84\n",
       "2823     87\n",
       "2824     69\n",
       "2825     71\n",
       "2826     78\n",
       "2827     68\n",
       "2828     86\n",
       "2829     87\n",
       "2830     86\n",
       "2831     68\n",
       "2832     95\n",
       "2833     89\n",
       "2834     95\n",
       "Name: W, dtype: int64"
      ]
     },
     "execution_count": 63,
     "metadata": {},
     "output_type": "execute_result"
    }
   ],
   "source": [
    "_2000to_2017 = teams[teams.yearID > 2000]\n",
    "win_to_yearsup=_2000to_2017.W\n",
    "win_to_yearsup"
   ]
  },
  {
   "cell_type": "code",
   "execution_count": 64,
   "metadata": {
    "collapsed": false
   },
   "outputs": [
    {
     "data": {
      "text/plain": [
       "{2000: 80.93333333333334,\n",
       " 2001: 80.93333333333334,\n",
       " 2002: 80.83333333333333,\n",
       " 2003: 80.96666666666667,\n",
       " 2004: 80.93333333333334,\n",
       " 2005: 81.0,\n",
       " 2006: 80.96666666666667,\n",
       " 2007: 81.03333333333333,\n",
       " 2008: 80.93333333333334,\n",
       " 2009: 81.0,\n",
       " 2010: 81.0,\n",
       " 2011: 80.96666666666667,\n",
       " 2012: 81.0,\n",
       " 2013: 81.03333333333333,\n",
       " 2014: 81.0,\n",
       " 2015: 80.96666666666667,\n",
       " 2016: 80.9}"
      ]
     },
     "execution_count": 64,
     "metadata": {},
     "output_type": "execute_result"
    }
   ],
   "source": [
    "year_win_rateUp=dict()\n",
    "for i in range(2000,2017):\n",
    "    year_win_rateUp[i] =  teams.W[teams.yearID == i].mean()\n",
    "year_win_rateUp"
   ]
  },
  {
   "cell_type": "code",
   "execution_count": 65,
   "metadata": {
    "collapsed": true
   },
   "outputs": [],
   "source": [
    "year_win_rateUp_graph = thinkstats2.Hist(year_win_rateUp)"
   ]
  },
  {
   "cell_type": "code",
   "execution_count": 66,
   "metadata": {
    "collapsed": false
   },
   "outputs": [
    {
     "data": {
      "image/png": "[encoded data removed]",
      "text/plain": [
       "<matplotlib.figure.Figure at 0xc4069e8>"
      ]
     },
     "metadata": {},
     "output_type": "display_data"
    }
   ],
   "source": [
    "thinkplot.Hist(year_win_rateUp_graph)\n",
    "thinkplot.Config(xlabel=\"years\", ylabel=\"win\")"
   ]
  },
  {
   "cell_type": "code",
   "execution_count": 67,
   "metadata": {
    "collapsed": false
   },
   "outputs": [
    {
     "data": {
      "image/png": "[encoded data removed]",
      "text/plain": [
       "<matplotlib.figure.Figure at 0xc406e48>"
      ]
     },
     "metadata": {},
     "output_type": "display_data"
    }
   ],
   "source": [
    "year_win_rateUp_graphpmf = thinkstats2.Pmf(year_win_rateUp)\n",
    "thinkplot.Pmf(year_win_rateUp_graphpmf)\n",
    "thinkplot.Config(xlabel=\"years\", ylabel=\"win\")"
   ]
  },
  {
   "cell_type": "code",
   "execution_count": 68,
   "metadata": {
    "collapsed": false
   },
   "outputs": [
    {
     "data": {
      "image/png": "[encoded data removed]",
      "text/plain": [
       "<matplotlib.figure.Figure at 0xc2bc668>"
      ]
     },
     "metadata": {},
     "output_type": "display_data"
    }
   ],
   "source": [
    "year_win_rateUp_graphcdf = thinkstats2.Cdf(year_win_rate)\n",
    "thinkplot.Cdf(year_win_rateUp_graphcdf)\n",
    "thinkplot.Config(xlabel=\"years\", ylabel=\"wins\")"
   ]
  },
  {
   "cell_type": "code",
   "execution_count": null,
   "metadata": {
    "collapsed": true
   },
   "outputs": [],
   "source": []
  }
 ],
 "metadata": {
  "kernelspec": {
   "display_name": "Python 2",
   "language": "python",
   "name": "python2"
  },
  "language_info": {
   "codemirror_mode": {
    "name": "ipython",
    "version": 2
   },
   "file_extension": ".py",
   "mimetype": "text/x-python",
   "name": "python",
   "nbconvert_exporter": "python",
   "pygments_lexer": "ipython2",
   "version": "2.7.13"
  }
 },
 "nbformat": 4,
 "nbformat_minor": 2
}
